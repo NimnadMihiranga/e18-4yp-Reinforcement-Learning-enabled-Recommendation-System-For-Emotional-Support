{
 "cells": [
  {
   "cell_type": "code",
   "execution_count": 2,
   "id": "75b4bdfb",
   "metadata": {},
   "outputs": [
    {
     "name": "stdout",
     "output_type": "stream",
     "text": [
      "Current emotional state: Angry\n",
      "Action (Recommendation): 2, Reward: -1\n",
      "Action (Recommendation): 2, Reward: 1\n",
      "Action (Recommendation): 1, Reward: 1\n"
     ]
    }
   ],
   "source": [
    "import gym\n",
    "from gym import spaces\n",
    "import numpy as np\n",
    "\n",
    "class EmotionSupportEnv(gym.Env):\n",
    "    \"\"\"A simple environment for an emotion-based recommendation system.\"\"\"\n",
    "    metadata = {'render.modes': ['console']}\n",
    "\n",
    "    def __init__(self):\n",
    "        super(EmotionSupportEnv, self).__init__()\n",
    "\n",
    "        # Define action space: 0: Music, 1: Movie, 2: Book\n",
    "        self.action_space = spaces.Discrete(3)\n",
    "\n",
    "        # Define observation (state) space: 0: Happy, 1: Sad, 2: Angry\n",
    "        self.observation_space = spaces.Discrete(3)  # Assign here\n",
    "\n",
    "        self.state = 0  # Initialize state, representing an emotional state\n",
    "\n",
    "    def step(self, action):\n",
    "        # Simulate the effect of an action on the state. Here we mock the transition.\n",
    "        self.state = self.observation_space.sample()  # Randomly change the emotional state\n",
    "\n",
    "        # Mock a reward mechanism: 1 for a good recommendation, -1 for a bad one\n",
    "        reward = np.random.choice([1, -1])\n",
    "\n",
    "        done = True  # Assuming the episode ends after one step for simplicity\n",
    "\n",
    "        info = {}\n",
    "\n",
    "        return self.state, reward, done, info\n",
    "\n",
    "    def reset(self):\n",
    "        # Reset the environment to a new, random state (emotional state)\n",
    "        self.state = self.observation_space.sample()\n",
    "        return self.state\n",
    "\n",
    "    def render(self, mode='console'):\n",
    "        if mode != 'console':\n",
    "            raise NotImplementedError()\n",
    "\n",
    "        # Print the current state for visualization\n",
    "        emotion = ['Happy', 'Sad', 'Angry'][self.state]\n",
    "        print(f\"Current emotional state: {emotion}\")\n",
    "\n",
    "# Example usage\n",
    "env = EmotionSupportEnv()\n",
    "\n",
    "obs = env.reset()\n",
    "env.render()\n",
    "\n",
    "for _ in range(3):\n",
    "    action = env.action_space.sample()\n",
    "    obs, reward, done, info = env.step(action)\n",
    "    print(f\"Action (Recommendation): {action}, Reward: {reward}\")\n"
   ]
  },
  {
   "cell_type": "code",
   "execution_count": null,
   "id": "a6ccdf93",
   "metadata": {},
   "outputs": [],
   "source": []
  }
 ],
 "metadata": {
  "kernelspec": {
   "display_name": "Python 3 (ipykernel)",
   "language": "python",
   "name": "python3"
  },
  "language_info": {
   "codemirror_mode": {
    "name": "ipython",
    "version": 3
   },
   "file_extension": ".py",
   "mimetype": "text/x-python",
   "name": "python",
   "nbconvert_exporter": "python",
   "pygments_lexer": "ipython3",
   "version": "3.10.0"
  }
 },
 "nbformat": 4,
 "nbformat_minor": 5
}
